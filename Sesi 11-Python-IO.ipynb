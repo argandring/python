{
 "cells": [
  {
   "cell_type": "markdown",
   "metadata": {},
   "source": [
    "**Pembacaan File TXT**\n",
    "\n",
    "Selalu tutup file yang telah dibuka, gunakan try... finally... "
   ]
  },
  {
   "cell_type": "code",
   "execution_count": 3,
   "metadata": {},
   "outputs": [
    {
     "name": "stdout",
     "output_type": "stream",
     "text": [
      "['Ini', 'adalah', 'contoh', 'fail\\n']\n",
      "4\n",
      "['Ini', 'baris', 'kedua\\n']\n",
      "3\n",
      "['Dan', 'yang', 'ini', 'baris', 'ketiga']\n",
      "5\n"
     ]
    }
   ],
   "source": [
    "try:\n",
    "    f = open(r\"F:\\Digital Talent 2019\\BIG DATA ANALYTICS\\Code\\test.txt\")\n",
    "    \n",
    "    for line in f:\n",
    "        s = line.split(\" \")\n",
    "        print (s)\n",
    "        print (len(s))\n",
    "finally:\n",
    "    f.close()"
   ]
  },
  {
   "cell_type": "markdown",
   "metadata": {},
   "source": [
    "atau with .. as"
   ]
  },
  {
   "cell_type": "code",
   "execution_count": 4,
   "metadata": {},
   "outputs": [
    {
     "name": "stdout",
     "output_type": "stream",
     "text": [
      "['Ini', 'adalah', 'contoh', 'fail\\n']\n",
      "4\n",
      "['Ini', 'baris', 'kedua\\n']\n",
      "3\n",
      "['Dan', 'yang', 'ini', 'baris', 'ketiga']\n",
      "5\n"
     ]
    }
   ],
   "source": [
    "with open(r\"F:\\Digital Talent 2019\\BIG DATA ANALYTICS\\Code\\test.txt\") as f:\n",
    "    #x = f.readlines()\n",
    "    #print (x)\n",
    "    \n",
    "    for line in f:\n",
    "        s = line.split(\" \")\n",
    "        print (s)\n",
    "        print (len(s))\n",
    "    "
   ]
  },
  {
   "cell_type": "markdown",
   "metadata": {},
   "source": [
    "**Penulisan File TXT**"
   ]
  },
  {
   "cell_type": "code",
   "execution_count": 5,
   "metadata": {},
   "outputs": [],
   "source": [
    "with open(r\"F:\\Digital Talent 2019\\BIG DATA ANALYTICS\\code\\test_write.txt\", \"w\") as f:\n",
    "    f.write(\"ini contoh penulisan ke fail.\\n\")\n",
    "    f.write(\"\\tbaris ini menjorok ke dalam.\\n\")\n",
    "    "
   ]
  },
  {
   "cell_type": "code",
   "execution_count": null,
   "metadata": {},
   "outputs": [],
   "source": []
  }
 ],
 "metadata": {
  "kernelspec": {
   "display_name": "Python 3",
   "language": "python",
   "name": "python3"
  },
  "language_info": {
   "codemirror_mode": {
    "name": "ipython",
    "version": 3
   },
   "file_extension": ".py",
   "mimetype": "text/x-python",
   "name": "python",
   "nbconvert_exporter": "python",
   "pygments_lexer": "ipython3",
   "version": "3.7.3"
  }
 },
 "nbformat": 4,
 "nbformat_minor": 2
}
