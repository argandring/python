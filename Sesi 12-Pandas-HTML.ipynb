{
 "cells": [
  {
   "cell_type": "markdown",
   "metadata": {},
   "source": [
    "# Pandas, BeautifulSoup & HTML"
   ]
  },
  {
   "cell_type": "code",
   "execution_count": 7,
   "metadata": {},
   "outputs": [],
   "source": [
    "from bs4 import BeautifulSoup\n",
    "from urllib.request import urlopen"
   ]
  },
  {
   "cell_type": "code",
   "execution_count": 16,
   "metadata": {},
   "outputs": [],
   "source": [
    "response = urlopen('https://regional.kompas.com/read/2019/07/16/10204371/krisis-air-bersih-di-cianjur-meluas-warga-gunakan-air-keruh-untuk-mandi')"
   ]
  },
  {
   "cell_type": "code",
   "execution_count": 17,
   "metadata": {},
   "outputs": [],
   "source": [
    "str_html = response.read()"
   ]
  },
  {
   "cell_type": "code",
   "execution_count": 19,
   "metadata": {},
   "outputs": [
    {
     "data": {
      "text/plain": [
       "b'<!DOCTYPE html>\\n<html lang=\"en\">\\n<head>\\n       \\n<!-- Google Tag Manager -->\\n<script>(function(w,d,s,l,i){w[l]=w[l]||[];w[l].push({\\'gtm.start\\':\\nnew Date().getTime(),event:\\'gtm.js\\'});var f=d.getElementsByTagName(s)[0],\\nj=d.createElement(s),dl=l!=\\'dataLayer\\''"
      ]
     },
     "execution_count": 19,
     "metadata": {},
     "output_type": "execute_result"
    }
   ],
   "source": [
    "str_html[:255]"
   ]
  },
  {
   "cell_type": "code",
   "execution_count": 22,
   "metadata": {},
   "outputs": [],
   "source": [
    "soup = BeautifulSoup(str_html, 'html.parser')"
   ]
  },
  {
   "cell_type": "code",
   "execution_count": 45,
   "metadata": {},
   "outputs": [
    {
     "name": "stdout",
     "output_type": "stream",
     "text": [
      "\n",
      " CIANJUR, KOMPAS.com – Warga di dua kedusunan di Desa Cikadu, Kecamatan Cikadu, Kabupaten  Cianjur terpaksa menggunakan air dari kolam penampungan untuk kebutuhan mandi, cuci dan kakus (MCK).\n",
      "Musim kemarau yang terjadi sejak dua bulan terakhir di wilayah tersebut membuat sumber-sumber air bersih warga di Dusun Karyamukti dan Dusun Cilaku itu mengering.\n",
      "Seorang warga, Abdul Gofur (32) mengatakan, terpaksa menggunakan air dari kolam penampungan tersebut kendati kondisinya keruh karena tidak ada alternatif lain sejak sumur mengering.\n",
      "\"Sejak bulan puasa kemarin atau sekitar dua bulan sudah tidak turun hujan. Sumur dan sumber air lain sudah kering, jadi terpaksa menggunakan (sumber air) yang ada,” tutur warga asal Kampung Pasirhuni, Cikadu saat dihubungi wartawan, Senin (15/7/2019).\n",
      "Baca juga: Jokowi Minta Menteri Turun Langsung ke Lapangan Mitigasi Dampak Kekeringan\n",
      "Air di kolam penampungan yang berasal dari aliran kali kecil itu pun menjadi tumpuan satu-satunya warga sekitar untuk memenuhi kebutuhan air sehari-hari.\n",
      "“Meskipun keruh tapi mau bagaimana lagi, daripada tidak ada air sama sekali. Alhamdulilah tidak ada keluhan, mudah-mudahan warga sehat-sehat saja meski harus menggunakan air yang kondisinya seperti itu,” tuturnya.\n",
      "Gofur menyebutkan, untuk bisa mendapatkan air dari kolam penampungan yang berlokasi di Dusun Cilaku itu harus mengantre terlebih dahulu karena sejak pagi hingga petang hari, warga silih berganti berdatangan ke lokasi sembari membawa ember dan jerigen.\n",
      "“Karena jaraknya lumayan jauh, saya dan warga dari sini harus pakai motor ke lokasi. Jarak tempuhnya sekitar 20 menit. Kalau yang tidak punya motor pakai jasa ojek ongkosnya Rp10 ribu,” ujarnya.\n",
      "Baca juga: Kekeringan di Karawang, Warga Gali Sumur di Sungai dan Ambil Air Pukul 2 Dini Hari\n",
      "Dihubungi terpisah, Kepala BPBD Kabupaten Cianjur, Dodi Permadi mengatakan,  krisis air bersih terjadi di beberapa wilayah kecamatan terutama di selatan.\n",
      "Pihaknya pun telah berkordinasi lintas sektoral termasuk dengan PDAM Tirta Mukti Cianjur jika harus melakukan pendistribusian air bersih.\n",
      "“Selain penanganan berupa droping air, kita juga sedang memetakan untuk membangun bak-bak penampungan air bersih. Rencananya akan kita bangun di sebelas kecamatan,” ujarnya.\n"
     ]
    }
   ],
   "source": [
    "for x in soup.find_all(class_='read__content'):\n",
    "    print (x.get_text())"
   ]
  },
  {
   "cell_type": "code",
   "execution_count": null,
   "metadata": {},
   "outputs": [],
   "source": []
  },
  {
   "cell_type": "code",
   "execution_count": null,
   "metadata": {},
   "outputs": [],
   "source": []
  }
 ],
 "metadata": {
  "kernelspec": {
   "display_name": "Python 3",
   "language": "python",
   "name": "python3"
  },
  "language_info": {
   "codemirror_mode": {
    "name": "ipython",
    "version": 3
   },
   "file_extension": ".py",
   "mimetype": "text/x-python",
   "name": "python",
   "nbconvert_exporter": "python",
   "pygments_lexer": "ipython3",
   "version": "3.7.3"
  }
 },
 "nbformat": 4,
 "nbformat_minor": 2
}
